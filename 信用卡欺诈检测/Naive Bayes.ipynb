{
  "cells": [
    {
      "metadata": {
        "_uuid": "8f2839f25d086af736a60e9eeb907d3b93b6e0e5",
        "_cell_guid": "b1076dfc-b9ad-4769-8c92-a6c4dae69d19",
        "trusted": true
      },
      "cell_type": "code",
      "source": "# This Python 3 environment comes with many helpful analytics libraries installed\n# It is defined by the kaggle/python docker image: https://github.com/kaggle/docker-python\n# For example, here's several helpful packages to load in \n\nimport numpy as np # linear algebra\nimport pandas as pd # data processing, CSV file I/O (e.g. pd.read_csv)\n\n# Input data files are available in the \"../input/\" directory.\n# For example, running this (by clicking run or pressing Shift+Enter) will list the files in the input directory\nimport copy\nimport os\nprint(os.listdir(\"../input\"))\nfrom sklearn import preprocessing\nfrom sklearn.model_selection import train_test_split\nfrom sklearn.naive_bayes import GaussianNB\n# Any results you write to the current directory are saved as output.",
      "execution_count": 119,
      "outputs": [
        {
          "output_type": "stream",
          "text": "['creditcard.csv']\n",
          "name": "stdout"
        }
      ]
    },
    {
      "metadata": {
        "_cell_guid": "79c7e3d0-c299-4dcb-8224-4455121ee9b0",
        "_uuid": "d629ff2d2480ee46fbb7e2d37f6b5fab8052498a",
        "trusted": true
      },
      "cell_type": "code",
      "source": "df = pd.read_csv(\"../input/creditcard.csv\")",
      "execution_count": 120,
      "outputs": []
    },
    {
      "metadata": {
        "trusted": true,
        "_uuid": "390219873fd64feb46694f5f7a4fbf620f4cee09"
      },
      "cell_type": "code",
      "source": "df.head(5)",
      "execution_count": 121,
      "outputs": [
        {
          "output_type": "execute_result",
          "execution_count": 121,
          "data": {
            "text/plain": "   Time        V1        V2        V3  ...         V27       V28  Amount  Class\n0   0.0 -1.359807 -0.072781  2.536347  ...    0.133558 -0.021053  149.62      0\n1   0.0  1.191857  0.266151  0.166480  ...   -0.008983  0.014724    2.69      0\n2   1.0 -1.358354 -1.340163  1.773209  ...   -0.055353 -0.059752  378.66      0\n3   1.0 -0.966272 -0.185226  1.792993  ...    0.062723  0.061458  123.50      0\n4   2.0 -1.158233  0.877737  1.548718  ...    0.219422  0.215153   69.99      0\n\n[5 rows x 31 columns]",
            "text/html": "<div>\n<style scoped>\n    .dataframe tbody tr th:only-of-type {\n        vertical-align: middle;\n    }\n\n    .dataframe tbody tr th {\n        vertical-align: top;\n    }\n\n    .dataframe thead th {\n        text-align: right;\n    }\n</style>\n<table border=\"1\" class=\"dataframe\">\n  <thead>\n    <tr style=\"text-align: right;\">\n      <th></th>\n      <th>Time</th>\n      <th>V1</th>\n      <th>V2</th>\n      <th>V3</th>\n      <th>V4</th>\n      <th>V5</th>\n      <th>V6</th>\n      <th>V7</th>\n      <th>V8</th>\n      <th>V9</th>\n      <th>V10</th>\n      <th>V11</th>\n      <th>V12</th>\n      <th>V13</th>\n      <th>V14</th>\n      <th>V15</th>\n      <th>V16</th>\n      <th>V17</th>\n      <th>V18</th>\n      <th>V19</th>\n      <th>V20</th>\n      <th>V21</th>\n      <th>V22</th>\n      <th>V23</th>\n      <th>V24</th>\n      <th>V25</th>\n      <th>V26</th>\n      <th>V27</th>\n      <th>V28</th>\n      <th>Amount</th>\n      <th>Class</th>\n    </tr>\n  </thead>\n  <tbody>\n    <tr>\n      <th>0</th>\n      <td>0.0</td>\n      <td>-1.359807</td>\n      <td>-0.072781</td>\n      <td>2.536347</td>\n      <td>1.378155</td>\n      <td>-0.338321</td>\n      <td>0.462388</td>\n      <td>0.239599</td>\n      <td>0.098698</td>\n      <td>0.363787</td>\n      <td>0.090794</td>\n      <td>-0.551600</td>\n      <td>-0.617801</td>\n      <td>-0.991390</td>\n      <td>-0.311169</td>\n      <td>1.468177</td>\n      <td>-0.470401</td>\n      <td>0.207971</td>\n      <td>0.025791</td>\n      <td>0.403993</td>\n      <td>0.251412</td>\n      <td>-0.018307</td>\n      <td>0.277838</td>\n      <td>-0.110474</td>\n      <td>0.066928</td>\n      <td>0.128539</td>\n      <td>-0.189115</td>\n      <td>0.133558</td>\n      <td>-0.021053</td>\n      <td>149.62</td>\n      <td>0</td>\n    </tr>\n    <tr>\n      <th>1</th>\n      <td>0.0</td>\n      <td>1.191857</td>\n      <td>0.266151</td>\n      <td>0.166480</td>\n      <td>0.448154</td>\n      <td>0.060018</td>\n      <td>-0.082361</td>\n      <td>-0.078803</td>\n      <td>0.085102</td>\n      <td>-0.255425</td>\n      <td>-0.166974</td>\n      <td>1.612727</td>\n      <td>1.065235</td>\n      <td>0.489095</td>\n      <td>-0.143772</td>\n      <td>0.635558</td>\n      <td>0.463917</td>\n      <td>-0.114805</td>\n      <td>-0.183361</td>\n      <td>-0.145783</td>\n      <td>-0.069083</td>\n      <td>-0.225775</td>\n      <td>-0.638672</td>\n      <td>0.101288</td>\n      <td>-0.339846</td>\n      <td>0.167170</td>\n      <td>0.125895</td>\n      <td>-0.008983</td>\n      <td>0.014724</td>\n      <td>2.69</td>\n      <td>0</td>\n    </tr>\n    <tr>\n      <th>2</th>\n      <td>1.0</td>\n      <td>-1.358354</td>\n      <td>-1.340163</td>\n      <td>1.773209</td>\n      <td>0.379780</td>\n      <td>-0.503198</td>\n      <td>1.800499</td>\n      <td>0.791461</td>\n      <td>0.247676</td>\n      <td>-1.514654</td>\n      <td>0.207643</td>\n      <td>0.624501</td>\n      <td>0.066084</td>\n      <td>0.717293</td>\n      <td>-0.165946</td>\n      <td>2.345865</td>\n      <td>-2.890083</td>\n      <td>1.109969</td>\n      <td>-0.121359</td>\n      <td>-2.261857</td>\n      <td>0.524980</td>\n      <td>0.247998</td>\n      <td>0.771679</td>\n      <td>0.909412</td>\n      <td>-0.689281</td>\n      <td>-0.327642</td>\n      <td>-0.139097</td>\n      <td>-0.055353</td>\n      <td>-0.059752</td>\n      <td>378.66</td>\n      <td>0</td>\n    </tr>\n    <tr>\n      <th>3</th>\n      <td>1.0</td>\n      <td>-0.966272</td>\n      <td>-0.185226</td>\n      <td>1.792993</td>\n      <td>-0.863291</td>\n      <td>-0.010309</td>\n      <td>1.247203</td>\n      <td>0.237609</td>\n      <td>0.377436</td>\n      <td>-1.387024</td>\n      <td>-0.054952</td>\n      <td>-0.226487</td>\n      <td>0.178228</td>\n      <td>0.507757</td>\n      <td>-0.287924</td>\n      <td>-0.631418</td>\n      <td>-1.059647</td>\n      <td>-0.684093</td>\n      <td>1.965775</td>\n      <td>-1.232622</td>\n      <td>-0.208038</td>\n      <td>-0.108300</td>\n      <td>0.005274</td>\n      <td>-0.190321</td>\n      <td>-1.175575</td>\n      <td>0.647376</td>\n      <td>-0.221929</td>\n      <td>0.062723</td>\n      <td>0.061458</td>\n      <td>123.50</td>\n      <td>0</td>\n    </tr>\n    <tr>\n      <th>4</th>\n      <td>2.0</td>\n      <td>-1.158233</td>\n      <td>0.877737</td>\n      <td>1.548718</td>\n      <td>0.403034</td>\n      <td>-0.407193</td>\n      <td>0.095921</td>\n      <td>0.592941</td>\n      <td>-0.270533</td>\n      <td>0.817739</td>\n      <td>0.753074</td>\n      <td>-0.822843</td>\n      <td>0.538196</td>\n      <td>1.345852</td>\n      <td>-1.119670</td>\n      <td>0.175121</td>\n      <td>-0.451449</td>\n      <td>-0.237033</td>\n      <td>-0.038195</td>\n      <td>0.803487</td>\n      <td>0.408542</td>\n      <td>-0.009431</td>\n      <td>0.798278</td>\n      <td>-0.137458</td>\n      <td>0.141267</td>\n      <td>-0.206010</td>\n      <td>0.502292</td>\n      <td>0.219422</td>\n      <td>0.215153</td>\n      <td>69.99</td>\n      <td>0</td>\n    </tr>\n  </tbody>\n</table>\n</div>"
          },
          "metadata": {}
        }
      ]
    },
    {
      "metadata": {
        "trusted": true,
        "_uuid": "9aebc25c3e4a35297fb9f55d855ba420df86bd5b"
      },
      "cell_type": "code",
      "source": "print('总交易次数为:', len(df))\nprint('正常交易次数为：', len(df[df['Class']==0]))\nprint('欺诈交易次数为：', len(df[df['Class']==1]))",
      "execution_count": 122,
      "outputs": [
        {
          "output_type": "stream",
          "text": "总交易次数为: 284807\n正常交易次数为： 284315\n欺诈交易次数为： 492\n",
          "name": "stdout"
        }
      ]
    },
    {
      "metadata": {
        "_uuid": "d296de126faabe9cb566c8949debe2d75a17e35a"
      },
      "cell_type": "markdown",
      "source": "分析数据集，交易数据是经过脱敏之后，用28维向量描述的数据。数据集包含了284807条交易数据，其中正常交易次数为284315，欺诈交易次数为492。数据极不平衡。"
    },
    {
      "metadata": {
        "_uuid": "894abd5593e725d72f51c8fd84b8f94dd0e13c71"
      },
      "cell_type": "markdown",
      "source": "## 特征提取\n1. 标准化\n数据集的V1-V28特征已经归一化处理了，仅剩Amount字段是原始的交易数据，接下来首先将该字段进行标准化处理。"
    },
    {
      "metadata": {
        "trusted": true,
        "_uuid": "ff990aa29bf8de9a6e73c4cd16c1fb0cef513fb9"
      },
      "cell_type": "code",
      "source": "df1 = copy.deepcopy(df)\ndf['normAmount'] = preprocessing.StandardScaler().fit_transform(df['Amount'].values.reshape(-1, 1))",
      "execution_count": 123,
      "outputs": []
    },
    {
      "metadata": {
        "trusted": true,
        "scrolled": true,
        "_uuid": "bcdcbb47a0e925f41876860ae79181997ad91bb5"
      },
      "cell_type": "code",
      "source": "df.head()",
      "execution_count": 126,
      "outputs": [
        {
          "output_type": "execute_result",
          "execution_count": 126,
          "data": {
            "text/plain": "   Time        V1        V2     ...      Amount  Class  normAmount\n0   0.0 -1.359807 -0.072781     ...      149.62      0    0.244964\n1   0.0  1.191857  0.266151     ...        2.69      0   -0.342475\n2   1.0 -1.358354 -1.340163     ...      378.66      0    1.160686\n3   1.0 -0.966272 -0.185226     ...      123.50      0    0.140534\n4   2.0 -1.158233  0.877737     ...       69.99      0   -0.073403\n\n[5 rows x 32 columns]",
            "text/html": "<div>\n<style scoped>\n    .dataframe tbody tr th:only-of-type {\n        vertical-align: middle;\n    }\n\n    .dataframe tbody tr th {\n        vertical-align: top;\n    }\n\n    .dataframe thead th {\n        text-align: right;\n    }\n</style>\n<table border=\"1\" class=\"dataframe\">\n  <thead>\n    <tr style=\"text-align: right;\">\n      <th></th>\n      <th>Time</th>\n      <th>V1</th>\n      <th>V2</th>\n      <th>V3</th>\n      <th>V4</th>\n      <th>V5</th>\n      <th>V6</th>\n      <th>V7</th>\n      <th>V8</th>\n      <th>V9</th>\n      <th>V10</th>\n      <th>V11</th>\n      <th>V12</th>\n      <th>V13</th>\n      <th>V14</th>\n      <th>V15</th>\n      <th>V16</th>\n      <th>V17</th>\n      <th>V18</th>\n      <th>V19</th>\n      <th>V20</th>\n      <th>V21</th>\n      <th>V22</th>\n      <th>V23</th>\n      <th>V24</th>\n      <th>V25</th>\n      <th>V26</th>\n      <th>V27</th>\n      <th>V28</th>\n      <th>Amount</th>\n      <th>Class</th>\n      <th>normAmount</th>\n    </tr>\n  </thead>\n  <tbody>\n    <tr>\n      <th>0</th>\n      <td>0.0</td>\n      <td>-1.359807</td>\n      <td>-0.072781</td>\n      <td>2.536347</td>\n      <td>1.378155</td>\n      <td>-0.338321</td>\n      <td>0.462388</td>\n      <td>0.239599</td>\n      <td>0.098698</td>\n      <td>0.363787</td>\n      <td>0.090794</td>\n      <td>-0.551600</td>\n      <td>-0.617801</td>\n      <td>-0.991390</td>\n      <td>-0.311169</td>\n      <td>1.468177</td>\n      <td>-0.470401</td>\n      <td>0.207971</td>\n      <td>0.025791</td>\n      <td>0.403993</td>\n      <td>0.251412</td>\n      <td>-0.018307</td>\n      <td>0.277838</td>\n      <td>-0.110474</td>\n      <td>0.066928</td>\n      <td>0.128539</td>\n      <td>-0.189115</td>\n      <td>0.133558</td>\n      <td>-0.021053</td>\n      <td>149.62</td>\n      <td>0</td>\n      <td>0.244964</td>\n    </tr>\n    <tr>\n      <th>1</th>\n      <td>0.0</td>\n      <td>1.191857</td>\n      <td>0.266151</td>\n      <td>0.166480</td>\n      <td>0.448154</td>\n      <td>0.060018</td>\n      <td>-0.082361</td>\n      <td>-0.078803</td>\n      <td>0.085102</td>\n      <td>-0.255425</td>\n      <td>-0.166974</td>\n      <td>1.612727</td>\n      <td>1.065235</td>\n      <td>0.489095</td>\n      <td>-0.143772</td>\n      <td>0.635558</td>\n      <td>0.463917</td>\n      <td>-0.114805</td>\n      <td>-0.183361</td>\n      <td>-0.145783</td>\n      <td>-0.069083</td>\n      <td>-0.225775</td>\n      <td>-0.638672</td>\n      <td>0.101288</td>\n      <td>-0.339846</td>\n      <td>0.167170</td>\n      <td>0.125895</td>\n      <td>-0.008983</td>\n      <td>0.014724</td>\n      <td>2.69</td>\n      <td>0</td>\n      <td>-0.342475</td>\n    </tr>\n    <tr>\n      <th>2</th>\n      <td>1.0</td>\n      <td>-1.358354</td>\n      <td>-1.340163</td>\n      <td>1.773209</td>\n      <td>0.379780</td>\n      <td>-0.503198</td>\n      <td>1.800499</td>\n      <td>0.791461</td>\n      <td>0.247676</td>\n      <td>-1.514654</td>\n      <td>0.207643</td>\n      <td>0.624501</td>\n      <td>0.066084</td>\n      <td>0.717293</td>\n      <td>-0.165946</td>\n      <td>2.345865</td>\n      <td>-2.890083</td>\n      <td>1.109969</td>\n      <td>-0.121359</td>\n      <td>-2.261857</td>\n      <td>0.524980</td>\n      <td>0.247998</td>\n      <td>0.771679</td>\n      <td>0.909412</td>\n      <td>-0.689281</td>\n      <td>-0.327642</td>\n      <td>-0.139097</td>\n      <td>-0.055353</td>\n      <td>-0.059752</td>\n      <td>378.66</td>\n      <td>0</td>\n      <td>1.160686</td>\n    </tr>\n    <tr>\n      <th>3</th>\n      <td>1.0</td>\n      <td>-0.966272</td>\n      <td>-0.185226</td>\n      <td>1.792993</td>\n      <td>-0.863291</td>\n      <td>-0.010309</td>\n      <td>1.247203</td>\n      <td>0.237609</td>\n      <td>0.377436</td>\n      <td>-1.387024</td>\n      <td>-0.054952</td>\n      <td>-0.226487</td>\n      <td>0.178228</td>\n      <td>0.507757</td>\n      <td>-0.287924</td>\n      <td>-0.631418</td>\n      <td>-1.059647</td>\n      <td>-0.684093</td>\n      <td>1.965775</td>\n      <td>-1.232622</td>\n      <td>-0.208038</td>\n      <td>-0.108300</td>\n      <td>0.005274</td>\n      <td>-0.190321</td>\n      <td>-1.175575</td>\n      <td>0.647376</td>\n      <td>-0.221929</td>\n      <td>0.062723</td>\n      <td>0.061458</td>\n      <td>123.50</td>\n      <td>0</td>\n      <td>0.140534</td>\n    </tr>\n    <tr>\n      <th>4</th>\n      <td>2.0</td>\n      <td>-1.158233</td>\n      <td>0.877737</td>\n      <td>1.548718</td>\n      <td>0.403034</td>\n      <td>-0.407193</td>\n      <td>0.095921</td>\n      <td>0.592941</td>\n      <td>-0.270533</td>\n      <td>0.817739</td>\n      <td>0.753074</td>\n      <td>-0.822843</td>\n      <td>0.538196</td>\n      <td>1.345852</td>\n      <td>-1.119670</td>\n      <td>0.175121</td>\n      <td>-0.451449</td>\n      <td>-0.237033</td>\n      <td>-0.038195</td>\n      <td>0.803487</td>\n      <td>0.408542</td>\n      <td>-0.009431</td>\n      <td>0.798278</td>\n      <td>-0.137458</td>\n      <td>0.141267</td>\n      <td>-0.206010</td>\n      <td>0.502292</td>\n      <td>0.219422</td>\n      <td>0.215153</td>\n      <td>69.99</td>\n      <td>0</td>\n      <td>-0.073403</td>\n    </tr>\n  </tbody>\n</table>\n</div>"
          },
          "metadata": {}
        }
      ]
    },
    {
      "metadata": {
        "_uuid": "8e7fc21d81b79f3541b2b3edd239dbbaa589fab8"
      },
      "cell_type": "markdown",
      "source": "删除Time、Amount两个条目"
    },
    {
      "metadata": {
        "trusted": true,
        "_uuid": "d05c304cdb43ecdf08e2f08a90caaedca4a24b98"
      },
      "cell_type": "code",
      "source": "df = df.drop(['Time', 'Amount'], axis=1)",
      "execution_count": 127,
      "outputs": []
    },
    {
      "metadata": {
        "_uuid": "ea51fe1e4d1b4d2c27b808950efe8ce2726f47e3"
      },
      "cell_type": "markdown",
      "source": "将标签赋值给y"
    },
    {
      "metadata": {
        "trusted": true,
        "_uuid": "52b47bf6370e87bbda051d95f1dd5d6808b3ec0c"
      },
      "cell_type": "code",
      "source": "y = df['Class']",
      "execution_count": 128,
      "outputs": []
    },
    {
      "metadata": {
        "trusted": true,
        "_uuid": "d7a931629c80afc891bd1edb1879161d09c71b47"
      },
      "cell_type": "code",
      "source": "features = df.drop(['Class'], axis=1).columns",
      "execution_count": 129,
      "outputs": []
    },
    {
      "metadata": {
        "trusted": true,
        "_uuid": "88d3753f60b625fbcd801833149db16fd4c401e5"
      },
      "cell_type": "code",
      "source": "x = df[features]",
      "execution_count": 130,
      "outputs": []
    },
    {
      "metadata": {
        "_uuid": "142b88b86df99c512178c032dcfab980ca9cda3a"
      },
      "cell_type": "markdown",
      "source": "划分训练集和测试集，其中训练集占60%，测试集占40%"
    },
    {
      "metadata": {
        "trusted": true,
        "_uuid": "7429a2a56dd1680590789c838b65a48d935d5ac8"
      },
      "cell_type": "code",
      "source": "x_train, x_test, y_train, y_test = train_test_split(x, y, test_size=0.4)",
      "execution_count": 131,
      "outputs": []
    },
    {
      "metadata": {
        "_uuid": "73767c972a9c626f0b65a4f720218110f3fd5f3c"
      },
      "cell_type": "markdown",
      "source": "## 训练朴素贝叶斯模型"
    },
    {
      "metadata": {
        "trusted": true,
        "_uuid": "afd4897d24251e1f5cf199415998eebd56982220"
      },
      "cell_type": "code",
      "source": "gnb = GaussianNB()\ngnb.fit(x_train, y_train)\ny_pred = gnb.predict(x_test)",
      "execution_count": 132,
      "outputs": []
    },
    {
      "metadata": {
        "_uuid": "2c3532024e1e238e7c213b5121dcb69cc1477061"
      },
      "cell_type": "markdown",
      "source": "评估模型准确率"
    },
    {
      "metadata": {
        "trusted": true,
        "_uuid": "f7ad6bd4412e73b56b77f51f879782d344960784"
      },
      "cell_type": "code",
      "source": "print('metrics.accuracy_score:', metrics.accuracy_score(y_test, y_pred))\nprint('metrics.confusion_score:', metrics.confusion_matrix(y_test, y_pred))\nprint('metrics.precision_score:', metrics.precision_score(y_test, y_pred))\nprint('metrics.recall_score:', metrics.recall_score(y_test, y_pred))\nprint('metrics.f1_score:', metrics.f1_score(y_test, y_pred))",
      "execution_count": 133,
      "outputs": [
        {
          "output_type": "stream",
          "text": "metrics.accuracy_score: 0.9784415789612282\nmetrics.confusion_score: [[111321   2421]\n [    35    146]]\nmetrics.precision_score: 0.05687573042462018\nmetrics.recall_score: 0.8066298342541437\nmetrics.f1_score: 0.10625909752547306\n",
          "name": "stdout"
        }
      ]
    },
    {
      "metadata": {
        "_uuid": "331299c1d6ef1b63d06206e6f4b5a8cb131f0520"
      },
      "cell_type": "markdown",
      "source": "由于这里我们的任务是检测欺诈交易，所以我们在评估模型效果时主要参考精度precision和召回率recall。\n可以看到模型的准确率为5.69%，召回率为80.66%。"
    },
    {
      "metadata": {
        "_uuid": "da49d5f1937cb9a76f4c2418491a07b1d991899b"
      },
      "cell_type": "markdown",
      "source": "## 降采样\n由于这里正常交易数量和欺诈交易数量比严重失衡，所以需要对数据做降采样处理，即从数据量多的一方随机选取与较少一方相当数量的数据。这里我们从正常交易数据中随机取492条数据。"
    },
    {
      "metadata": {
        "trusted": true,
        "_uuid": "b36dfcaf362bbeee0cc9cc4bb4fe314113b20578"
      },
      "cell_type": "code",
      "source": "number_fraud = len(df[df.Class == 1])\nfraud_index = np.array(df[df.Class == 1].index)",
      "execution_count": 134,
      "outputs": []
    },
    {
      "metadata": {
        "trusted": true,
        "_uuid": "046dc77058204aac1ec7c1cc6511a7e699cff1d7"
      },
      "cell_type": "code",
      "source": "normal_index = df[df.Class == 0].index\nrandom_choice_index = np.random.choice(normal_index, size=number_fraud, replace=False)",
      "execution_count": 135,
      "outputs": []
    },
    {
      "metadata": {
        "_uuid": "fac674b8a8725aff4b693672c7d39e658fa9209d"
      },
      "cell_type": "markdown",
      "source": "将降采样后的数据与欺诈交易数据重新组合成新的样本集合"
    },
    {
      "metadata": {
        "trusted": true,
        "_uuid": "16fea138f553bba69ba5b3d0d5f5b98673ac3f7a"
      },
      "cell_type": "code",
      "source": "x_index = np.concatenate([fraud_index, random_choice_index])\ndf = df.drop(['Class'], axis=1)\nx = df.iloc[x_index, :]\ny = [1] * number_fraud + [0] * number_fraud",
      "execution_count": 136,
      "outputs": []
    },
    {
      "metadata": {
        "trusted": true,
        "_uuid": "405e0ab0f92d696a91d6fefdc08f9f265e6e198d"
      },
      "cell_type": "code",
      "source": "x_train, x_test, y_train, y_test = train_test_split(x, y, test_size=0.4)",
      "execution_count": 137,
      "outputs": []
    },
    {
      "metadata": {
        "trusted": true,
        "_uuid": "b3df07130e842a9e6c7bc127983c4afb6a26869e"
      },
      "cell_type": "code",
      "source": "gnb = GaussianNB()\ngnb.fit(x_train, y_train)\ny_pred = gnb.predict(x_test)",
      "execution_count": 138,
      "outputs": []
    },
    {
      "metadata": {
        "trusted": true,
        "_uuid": "c27bb830367173bfafa92b6fe38a558e633348c6"
      },
      "cell_type": "code",
      "source": "print('metrics.accuracy_score:', metrics.accuracy_score(y_test, y_pred))\nprint('metrics.confusion_score:', metrics.confusion_matrix(y_test, y_pred))\nprint('metrics.precision_score:', metrics.precision_score(y_test, y_pred))\nprint('metrics.recall_score:', metrics.recall_score(y_test, y_pred))\nprint('metrics.f1_score:', metrics.f1_score(y_test, y_pred))",
      "execution_count": 139,
      "outputs": [
        {
          "output_type": "stream",
          "text": "metrics.accuracy_score: 0.8984771573604061\nmetrics.confusion_score: [[195   9]\n [ 31 159]]\nmetrics.precision_score: 0.9464285714285714\nmetrics.recall_score: 0.8368421052631579\nmetrics.f1_score: 0.8882681564245811\n",
          "name": "stdout"
        }
      ]
    },
    {
      "metadata": {
        "_uuid": "096deec943d36c9c61a0c1293572d620e9215172"
      },
      "cell_type": "markdown",
      "source": "经过降采样后，模型的精度提升到了94.64%，召回率为83.68%"
    },
    {
      "metadata": {
        "_uuid": "7b21ca55b3c60486185a9d325069c150dac74c22"
      },
      "cell_type": "markdown",
      "source": "## 过采样\n除了降采样，还可以采用过采样来处理数据不平衡问题。即在数量较少样本的基础上生成新样本，最常用的生成算法是Smote。  \nSmote算法的思想是先随机选定n个少类的样本，再找出最靠近它的m个少类样本，接着任选最临近的m个少类样本中的任意一点，在这两点上任选一点，这个点就是新增的样本。"
    },
    {
      "metadata": {
        "trusted": true,
        "_uuid": "86a362a0d0d007b6c4c548d864675b76cb9bd926"
      },
      "cell_type": "code",
      "source": "from imblearn.over_sampling import SMOTE",
      "execution_count": 140,
      "outputs": []
    },
    {
      "metadata": {
        "trusted": true,
        "_uuid": "815cb7d95bc8855c646ded62de01359fe6b4c993"
      },
      "cell_type": "code",
      "source": "features = df1.drop(['Class'], axis=1).columns\nx = df1[features]\ny = df1['Class']",
      "execution_count": 146,
      "outputs": []
    },
    {
      "metadata": {
        "trusted": true,
        "_uuid": "2d5b658aeb91e119f87d1c741e431b4dc79d8fbe"
      },
      "cell_type": "code",
      "source": "x_train, x_test, y_train, y_test = train_test_split(x, y, test_size=0.4)",
      "execution_count": 147,
      "outputs": []
    },
    {
      "metadata": {
        "trusted": true,
        "_uuid": "da8cadba3676615efdb7edff99801f4dfd50f495"
      },
      "cell_type": "code",
      "source": "print(pd.value_counts(y_train))",
      "execution_count": 148,
      "outputs": [
        {
          "output_type": "stream",
          "text": "0    170585\n1       299\nName: Class, dtype: int64\n",
          "name": "stdout"
        }
      ]
    },
    {
      "metadata": {
        "_uuid": "2f62d0d9813e5e46ccab478b04db502ea77924f0"
      },
      "cell_type": "markdown",
      "source": "未作处理直接进行train_test_split划分，可以看到样本分布的确不均衡。  \n接下来我们使用Smote算法对训练数据进行过采样。  "
    },
    {
      "metadata": {
        "trusted": true,
        "_uuid": "9b5418f1f87aa746a2a79d85e0cb8c35db260b39"
      },
      "cell_type": "code",
      "source": "os = SMOTE(random_state=0)\nx_train_1, y_train_1 = os.fit_sample(x_train, y_train)\nprint('Smote data')\nprint(pd.value_counts(y_train_1))",
      "execution_count": 149,
      "outputs": [
        {
          "output_type": "stream",
          "text": "Smote data\n1    170585\n0    170585\ndtype: int64\n",
          "name": "stdout"
        }
      ]
    },
    {
      "metadata": {
        "_uuid": "3f65afe695c36c118e09a9b0cc239f7875da84a8"
      },
      "cell_type": "markdown",
      "source": "Smote算法处理后看到样本达到了均衡，接下来训练模型看看效果如何！"
    },
    {
      "metadata": {
        "trusted": true,
        "_uuid": "1dff797c264ea28bf07acd66f5044a938b68e088"
      },
      "cell_type": "code",
      "source": "gnb = GaussianNB()\ngnb.fit(x_train_1, y_train_1)\ny_pred = gnb.predict(x_test)",
      "execution_count": 150,
      "outputs": []
    },
    {
      "metadata": {
        "trusted": true,
        "_uuid": "f063e42a7a0f2b4cd84b2b21619d097c973156a5"
      },
      "cell_type": "code",
      "source": "print('metrics.accuracy_score:', metrics.accuracy_score(y_test, y_pred))\nprint('metrics.confusion_score:', metrics.confusion_matrix(y_test, y_pred))\nprint('metrics.precision_score:', metrics.precision_score(y_test, y_pred))\nprint('metrics.recall_score:', metrics.recall_score(y_test, y_pred))\nprint('metrics.f1_score:', metrics.f1_score(y_test, y_pred))",
      "execution_count": 151,
      "outputs": [
        {
          "output_type": "stream",
          "text": "metrics.accuracy_score: 0.9916171449136698\nmetrics.confusion_score: [[112819    911]\n [    44    149]]\nmetrics.precision_score: 0.14056603773584905\nmetrics.recall_score: 0.772020725388601\nmetrics.f1_score: 0.237829209896249\n",
          "name": "stdout"
        }
      ]
    },
    {
      "metadata": {
        "trusted": true,
        "_uuid": "811470fe8b16bae529fc00fb7c1b8963621ede4c"
      },
      "cell_type": "markdown",
      "source": "模型精度14.06%，召回率77.20%  \n可以看到Smote之后精度要比未经过均衡处理时的效果好，但是由于样本数据是生成的，和实际数据还是有一定区别，而且训练数据量要比降采样时多得多，所以在结果上看到要比降采样的结果\"差\"一些。"
    }
  ],
  "metadata": {
    "kernelspec": {
      "display_name": "Python 3",
      "language": "python",
      "name": "python3"
    },
    "language_info": {
      "name": "python",
      "version": "3.6.6",
      "mimetype": "text/x-python",
      "codemirror_mode": {
        "name": "ipython",
        "version": 3
      },
      "pygments_lexer": "ipython3",
      "nbconvert_exporter": "python",
      "file_extension": ".py"
    }
  },
  "nbformat": 4,
  "nbformat_minor": 1
}